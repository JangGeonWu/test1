{
 "cells": [
  {
   "cell_type": "markdown",
   "metadata": {},
   "source": [
    "# 서브플롯 그리기\n",
    "- axes를 행-열로 쪼개어 서브플롯 그리기 \n",
    "___"
   ]
  },
  {
   "cell_type": "code",
   "execution_count": 1,
   "metadata": {},
   "outputs": [],
   "source": [
    "import matplotlib.pyplot as plt\n",
    "# 폰트 확인하기\n",
    "import matplotlib.font_manager as fm\n",
    "[f.name for f in fm.fontManager.ttflist if 'Malgun' in f.name]\n",
    "# '맑은 고딕'이 설치되어 있는지 검색\n",
    "# 한글폰트 지정\n",
    "plt.rcParams['font.family'] = 'Malgun Gothic'\n",
    "\n",
    "# 한글폰트 사용시 '-'기호가 깨지는 문제 해결\n",
    "plt.rcParams['axes.unicode_minus'] = False # 원래 True로 되어있어 -기호가 깨짐"
   ]
  },
  {
   "cell_type": "code",
   "execution_count": 2,
   "metadata": {},
   "outputs": [],
   "source": [
    "import seaborn as sns\n",
    "anscombe = sns.load_dataset('anscombe')\n",
    "df1 = anscombe[anscombe['dataset'] == 'I']\n",
    "df2 = anscombe[anscombe['dataset'] == 'II']\n",
    "df3 = anscombe[anscombe['dataset'] == 'III']\n",
    "df4 = anscombe[anscombe['dataset'] == 'IV']"
   ]
  },
  {
   "cell_type": "markdown",
   "metadata": {},
   "source": [
    "## 2. axes를 행열로 쪼개어 서브플롯 그리기\n",
    "- plt.subplots() 함수를 호출하면 figure, axes 객체를 생성해 튜플 형태로 반환   \n",
    "> fig, ax = plt.subplots()\n",
    "\n",
    "1) axes 객체를 행열로 쪼개어 생성   \n",
    "> fig, ax = plt.subplots(nrows=행개수, ncols=열개수, figsize=(가로사이즈, 세로사이즈))\n",
    "\n",
    "2) axes[행번호][열번호] 형태로 접근하여 그래프를 그린다\n",
    "\n",
    "3) 서브플롯간 축을 공유할 수 있다   \n",
    "> sharex=True, sharey = True\n",
    "\n"
   ]
  },
  {
   "cell_type": "code",
   "execution_count": 22,
   "metadata": {},
   "outputs": [
    {
     "data": {
      "image/png": "[encoded data removed]",
      "text/plain": [
       "<Figure size 576x432 with 4 Axes>"
      ]
     },
     "metadata": {
      "needs_background": "light"
     },
     "output_type": "display_data"
    }
   ],
   "source": [
    "# 행,열로 쪼개기\n",
    "# fig, ax = plt.subplots(nrows=2, ncols=2, figsize=(8,6))\n",
    "\n",
    "# 서브플롯간 축 공유\n",
    "fig, ax = plt.subplots(nrows=2, ncols=2, figsize=(8,6), sharex=True, sharey=True)\n",
    "\n",
    "# ax[][]로 접근해 그래프 그리기\n",
    "ax[0][0].plot(df1['x'], df1['y'], 'o')\n",
    "ax[0][1].plot(df2['x'], df2['y'], 'o')\n",
    "ax[1][0].plot(df3['x'], df3['y'], 'o')\n",
    "ax[1][1].plot(df4['x'], df4['y'], 'o')\n",
    "\n",
    "# 각 그래프에 제목 추가\n",
    "ax[0][0].set_title('ax1')\n",
    "ax[0][1].set_title('ax2')\n",
    "ax[1][0].set_title('ax3')\n",
    "ax[1][1].set_title('ax4')\n",
    "\n",
    "# 각 그래프에 그리드 추가\n",
    "ax[0][0].grid()\n",
    "ax[0][1].grid(True, ls=':')\n",
    "ax[1][0].grid(False)\n",
    "ax[1][1].grid(color='r', alpha=0.5)\n",
    "\n",
    "# 그래프의 전체 제목\n",
    "fig.suptitle('anscombe')\n",
    "\n",
    "# 그래프의 간격과 크기 최적화\n",
    "fig.tight_layout()"
   ]
  },
  {
   "cell_type": "code",
   "execution_count": null,
   "metadata": {},
   "outputs": [],
   "source": []
  }
 ],
 "metadata": {
  "kernelspec": {
   "display_name": "Python 3.10.5 64-bit",
   "language": "python",
   "name": "python3"
  },
  "language_info": {
   "codemirror_mode": {
    "name": "ipython",
    "version": 3
   },
   "file_extension": ".py",
   "mimetype": "text/x-python",
   "name": "python",
   "nbconvert_exporter": "python",
   "pygments_lexer": "ipython3",
   "version": "3.10.5"
  },
  "orig_nbformat": 4,
  "vscode": {
   "interpreter": {
    "hash": "369f2c481f4da34e4445cda3fffd2e751bd1c4d706f27375911949ba6bb62e1c"
   }
  }
 },
 "nbformat": 4,
 "nbformat_minor": 2
}
