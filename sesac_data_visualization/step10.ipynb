{
 "cells": [
  {
   "cell_type": "markdown",
   "metadata": {},
   "source": [
    "# 서브플롯 그리기\n",
    "- 전체 행 열과 그래프 순서에 따라 서브플롯 그리기(add_subplot)\n",
    "___"
   ]
  },
  {
   "cell_type": "code",
   "execution_count": 2,
   "metadata": {},
   "outputs": [],
   "source": [
    "import matplotlib.pyplot as plt\n",
    "# 폰트 확인하기\n",
    "import matplotlib.font_manager as fm\n",
    "[f.name for f in fm.fontManager.ttflist if 'Malgun' in f.name]\n",
    "# '맑은 고딕'이 설치되어 있는지 검색\n",
    "# 한글폰트 지정\n",
    "plt.rcParams['font.family'] = 'Malgun Gothic'\n",
    "\n",
    "# 한글폰트 사용시 '-'기호가 깨지는 문제 해결\n",
    "plt.rcParams['axes.unicode_minus'] = False # 원래 True로 되어있어 -기호가 깨짐"
   ]
  },
  {
   "cell_type": "code",
   "execution_count": 3,
   "metadata": {},
   "outputs": [],
   "source": [
    "import seaborn as sns\n",
    "anscombe = sns.load_dataset('anscombe')\n",
    "df1 = anscombe[anscombe['dataset'] == 'I']\n",
    "df2 = anscombe[anscombe['dataset'] == 'II']\n",
    "df3 = anscombe[anscombe['dataset'] == 'III']\n",
    "df4 = anscombe[anscombe['dataset'] == 'IV']"
   ]
  },
  {
   "cell_type": "markdown",
   "metadata": {},
   "source": [
    "## 2. 전체 행 열과 그래프 순서에 따라 서브플롯 그리기\n",
    "1) figure 객체를 생성한다   \n",
    "> fig = plt.figure()\n",
    "\n",
    "2) 서브플롯을 그릴 axes 객체를 생성한다    \n",
    "> ax = fig.add_subplot(전체행개수, 전체열개수, 순서)\n",
    "\n",
    "3) axes 객체에 그래프를 그린다.    \n",
    "> ax.plot(x, y)\n",
    "\n",
    "4) 축 공유하기 : 어떤 axes의 축을 공유할 것인지 지정한다   \n",
    "> sharex=axes객체, sharey=axes객체    "
   ]
  },
  {
   "cell_type": "code",
   "execution_count": 18,
   "metadata": {},
   "outputs": [
    {
     "data": {
      "image/png": "[encoded data removed]",
      "text/plain": [
       "<Figure size 576x432 with 4 Axes>"
      ]
     },
     "metadata": {},
     "output_type": "display_data"
    }
   ],
   "source": [
    "# 1) figure 객체를 생성한다\n",
    "fig = plt.figure(figsize=(8,6), facecolor='ivory')\n",
    "\n",
    "# 2) 서브플롯을 그릴 axes를 생성한다\n",
    "ax1 = fig.add_subplot(2, 2, 1) \n",
    "ax2 = fig.add_subplot(2, 2, 2, sharex=ax1, sharey=ax1)\n",
    "ax3 = fig.add_subplot(2, 2, 3, sharex=ax1, sharey=ax1)\n",
    "ax4 = fig.add_subplot(2, 2, 4) # ax1의 x, y축 공유하기\n",
    "\n",
    "# 3) axes 객체에 그래프 그리기 & 축 공유하기\n",
    "ax1.plot(df1['x'], df1['y'], 'o', label='ax1')\n",
    "ax2.plot(df2['x'], df2['y'], '^', label='ax2')\n",
    "ax3.plot(df3['x'], df3['y'], 'v', label='ax3')\n",
    "ax4.plot(df4['x'], df4['y'], '*', label='ax4')\n",
    "\n",
    "# 4) 틱 변경하기\n",
    "ax4.set_xticks(range(1, 20, 1))\n",
    "ax4.set_yticks(range(1, 15, 1))\n",
    "\n",
    "# 5) 범례 표시하기\n",
    "ax1.legend(loc=2)\n",
    "ax2.legend(facecolor='c', loc=2)\n",
    "ax3.legend(shadow=True)\n",
    "ax4.legend(loc = 2)\n",
    "\n",
    "# 6) figure 제목 추가하기\n",
    "fig.suptitle('Anscombe', size=20)\n",
    "\n",
    "# 7) 그래프 크기, 간격 최소화하기\n",
    "fig.tight_layout()\n",
    "\n",
    "plt.show()"
   ]
  },
  {
   "cell_type": "markdown",
   "metadata": {},
   "source": [
    "### 3. 이미지로 그래프 저장하기\n",
    "- fig.savefig(파일명, dpi=해상도)\n",
    "- 해상도의 default = 100, 파일 형식의 default = png, 파일 저장 경로 default = 현재파일(ipynb) 위치"
   ]
  },
  {
   "cell_type": "code",
   "execution_count": 19,
   "metadata": {},
   "outputs": [],
   "source": [
    "fig.savefig('MyAnscombe')"
   ]
  },
  {
   "cell_type": "code",
   "execution_count": 21,
   "metadata": {},
   "outputs": [],
   "source": [
    "fig.savefig('MyAnscombe150.png', dpi=150)"
   ]
  },
  {
   "cell_type": "code",
   "execution_count": null,
   "metadata": {},
   "outputs": [],
   "source": []
  }
 ],
 "metadata": {
  "kernelspec": {
   "display_name": "Python 3.10.5 64-bit",
   "language": "python",
   "name": "python3"
  },
  "language_info": {
   "codemirror_mode": {
    "name": "ipython",
    "version": 3
   },
   "file_extension": ".py",
   "mimetype": "text/x-python",
   "name": "python",
   "nbconvert_exporter": "python",
   "pygments_lexer": "ipython3",
   "version": "3.10.5"
  },
  "orig_nbformat": 4,
  "vscode": {
   "interpreter": {
    "hash": "369f2c481f4da34e4445cda3fffd2e751bd1c4d706f27375911949ba6bb62e1c"
   }
  }
 },
 "nbformat": 4,
 "nbformat_minor": 2
}
