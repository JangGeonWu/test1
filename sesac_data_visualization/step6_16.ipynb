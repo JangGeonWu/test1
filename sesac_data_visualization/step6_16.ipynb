{
 "cells": [
  {
   "cell_type": "markdown",
   "metadata": {},
   "source": [
    "# 데이터의 도수 분포를 확인하는 히스토그램\n",
    "- 히스토그램을 이용하여 데이터의 도수 분포를 표현할 수 있다.\n",
    "___"
   ]
  },
  {
   "cell_type": "code",
   "execution_count": 3,
   "metadata": {},
   "outputs": [],
   "source": [
    "import pandas as pd\n",
    "import matplotlib.pyplot as plt\n",
    "import numpy as np\n",
    "# 한글폰트 지정\n",
    "plt.rcParams['font.family'] = 'Malgun Gothic'\n",
    "\n",
    "# 한글폰트 사용시 '-'기호가 깨지는 문제 해결\n",
    "plt.rcParams['axes.unicode_minus'] = False"
   ]
  },
  {
   "cell_type": "markdown",
   "metadata": {},
   "source": [
    "## 1. 히스토그램\n",
    "- 자료의 도수분포를 나타내는 그래프 수치를 나타내는 자료를 일정 구간(계급)으로 나누어 각 구간별 값의 개수(도수)를 나타낸다.\n",
    "- x축은 계급(값의 구간), y축은 도수(구간별 값의 개수)를 나타낸다.\n",
    "___\n",
    "### 1.1 샘플데이터\n",
    "- 125명의 점수 데이터\n",
    "\n"
   ]
  },
  {
   "cell_type": "code",
   "execution_count": 12,
   "metadata": {},
   "outputs": [
    {
     "data": {
      "text/plain": [
       "array([ 96,  80,  33,  62,  95,   9,  48,  45,  82,  31,   1,  40,  26,\n",
       "        96,  82,  66,  54,  56,  92,  42,  21,  27,  15,  96,  53,  11,\n",
       "        20,  72,  19,  79,  91,  85,  10,  50,  72,  93,   8,  70,   9,\n",
       "        24,   3,  48,  80,  63,  73,  35,  15,  80,  70,   6,  88,  18,\n",
       "        83,  19,  62,   5,  57,   8,  75,  28,  50,  86,  97,  16,   7,\n",
       "         4,  38,  39,  13, 100,  46,  37,  47,  16,  87,  49, 100,  16,\n",
       "       100,  21,  56,  83,  94,  27,  48,  73,  97,  71,  88,  67,  56,\n",
       "        16,  28,  61,  35,  20,  57,  84,  56,  94,  47,  38,  33,  82,\n",
       "        21,  20,  27,  61,  59,  94,  66,  16,   7,  80,  16,  92,  88,\n",
       "        81,  37,  20, 100,  83,   9,   5,   1])"
      ]
     },
     "execution_count": 12,
     "metadata": {},
     "output_type": "execute_result"
    }
   ],
   "source": [
    "scores = np.random.randint(0, 101, 125)\n",
    "scores"
   ]
  },
  {
   "cell_type": "markdown",
   "metadata": {},
   "source": [
    "### 1.2. 히스토그램\n",
    "___\n",
    "#### 1.2.1. 기본 히스토그램\n",
    "- plt.hist(data)\n",
    "- default : 10개의 구간으로 나누어 도수분포를 보여준다."
   ]
  },
  {
   "cell_type": "code",
   "execution_count": 13,
   "metadata": {},
   "outputs": [
    {
     "data": {
      "text/plain": [
       "(array([15., 17., 10., 11., 11.,  9., 10., 11., 14., 17.]),\n",
       " array([  1. ,  10.9,  20.8,  30.7,  40.6,  50.5,  60.4,  70.3,  80.2,\n",
       "         90.1, 100. ]),\n",
       " <BarContainer object of 10 artists>)"
      ]
     },
     "execution_count": 13,
     "metadata": {},
     "output_type": "execute_result"
    },
    {
     "data": {
      "image/png": "[encoded data removed]",
      "text/plain": [
       "<Figure size 432x288 with 1 Axes>"
      ]
     },
     "metadata": {
      "needs_background": "light"
     },
     "output_type": "display_data"
    }
   ],
   "source": [
    "plt.hist(scores)\n",
    "# plt.show()"
   ]
  },
  {
   "cell_type": "markdown",
   "metadata": {},
   "source": [
    "#### 1.2.2. 구간의 개수 변경\n",
    "- bins = 구간의 개수"
   ]
  },
  {
   "cell_type": "code",
   "execution_count": 15,
   "metadata": {},
   "outputs": [
    {
     "data": {
      "text/plain": [
       "(array([ 6.,  9.,  4., 13.,  4.,  6.,  5.,  6.,  2.,  9.,  2.,  7.,  5.,\n",
       "         5.,  6.,  5.,  9.,  5.,  8.,  9.]),\n",
       " array([  1.  ,   5.95,  10.9 ,  15.85,  20.8 ,  25.75,  30.7 ,  35.65,\n",
       "         40.6 ,  45.55,  50.5 ,  55.45,  60.4 ,  65.35,  70.3 ,  75.25,\n",
       "         80.2 ,  85.15,  90.1 ,  95.05, 100.  ]),\n",
       " <BarContainer object of 20 artists>)"
      ]
     },
     "execution_count": 15,
     "metadata": {},
     "output_type": "execute_result"
    },
    {
     "data": {
      "image/png": "[encoded data removed]",
      "text/plain": [
       "<Figure size 432x288 with 1 Axes>"
      ]
     },
     "metadata": {
      "needs_background": "light"
     },
     "output_type": "display_data"
    }
   ],
   "source": [
    "plt.hist(scores, bins=20)\n",
    "# 구간의 개수가 bins개가 된다."
   ]
  },
  {
   "cell_type": "markdown",
   "metadata": {},
   "source": [
    "#### 1.2.3. 누적 히스토그램\n",
    "- cumulative = True"
   ]
  },
  {
   "cell_type": "code",
   "execution_count": 16,
   "metadata": {},
   "outputs": [
    {
     "data": {
      "text/plain": [
       "(array([  6.,  15.,  19.,  32.,  36.,  42.,  47.,  53.,  55.,  64.,  66.,\n",
       "         73.,  78.,  83.,  89.,  94., 103., 108., 116., 125.]),\n",
       " array([  1.  ,   5.95,  10.9 ,  15.85,  20.8 ,  25.75,  30.7 ,  35.65,\n",
       "         40.6 ,  45.55,  50.5 ,  55.45,  60.4 ,  65.35,  70.3 ,  75.25,\n",
       "         80.2 ,  85.15,  90.1 ,  95.05, 100.  ]),\n",
       " <BarContainer object of 20 artists>)"
      ]
     },
     "execution_count": 16,
     "metadata": {},
     "output_type": "execute_result"
    },
    {
     "data": {
      "image/png": "[encoded data removed]",
      "text/plain": [
       "<Figure size 432x288 with 1 Axes>"
      ]
     },
     "metadata": {
      "needs_background": "light"
     },
     "output_type": "display_data"
    }
   ],
   "source": [
    "plt.hist(scores, bins = 20, cumulative=True)"
   ]
  },
  {
   "cell_type": "markdown",
   "metadata": {},
   "source": [
    "#### 1.2.4. 범위 지정\n",
    "- range(min, max)"
   ]
  },
  {
   "cell_type": "code",
   "execution_count": 19,
   "metadata": {},
   "outputs": [
    {
     "data": {
      "text/plain": [
       "(array([3., 7., 3., 3., 3., 7., 1., 6., 8., 5.]),\n",
       " array([50., 54., 58., 62., 66., 70., 74., 78., 82., 86., 90.]),\n",
       " <BarContainer object of 10 artists>)"
      ]
     },
     "execution_count": 19,
     "metadata": {},
     "output_type": "execute_result"
    },
    {
     "data": {
      "image/png": "[encoded data removed]",
      "text/plain": [
       "<Figure size 432x288 with 1 Axes>"
      ]
     },
     "metadata": {
      "needs_background": "light"
     },
     "output_type": "display_data"
    }
   ],
   "source": [
    "plt.hist(scores, bins = 10, range=(50, 90))"
   ]
  },
  {
   "cell_type": "markdown",
   "metadata": {},
   "source": [
    "#### 1.2.5 밀도 표시\n",
    "- density = True"
   ]
  },
  {
   "cell_type": "code",
   "execution_count": 21,
   "metadata": {},
   "outputs": [
    {
     "data": {
      "text/plain": [
       "(array([0.01212121, 0.01373737, 0.00808081, 0.00888889, 0.00888889,\n",
       "        0.00727273, 0.00808081, 0.00888889, 0.01131313, 0.01373737]),\n",
       " array([  1. ,  10.9,  20.8,  30.7,  40.6,  50.5,  60.4,  70.3,  80.2,\n",
       "         90.1, 100. ]),\n",
       " <BarContainer object of 10 artists>)"
      ]
     },
     "execution_count": 21,
     "metadata": {},
     "output_type": "execute_result"
    },
    {
     "data": {
      "image/png": "[encoded data removed]",
      "text/plain": [
       "<Figure size 432x288 with 1 Axes>"
      ]
     },
     "metadata": {
      "needs_background": "light"
     },
     "output_type": "display_data"
    }
   ],
   "source": [
    "plt.hist(scores, bins = 10, density=True)\n",
    "# 좌측 y레이블이 총 밀도를 1을 기준으로 표시된 것을 볼 수 있다."
   ]
  },
  {
   "cell_type": "markdown",
   "metadata": {},
   "source": [
    "#### 1.2.6. 가로 히스토그램\n",
    "- orientation = 'horizontal'"
   ]
  },
  {
   "cell_type": "code",
   "execution_count": 23,
   "metadata": {},
   "outputs": [
    {
     "data": {
      "text/plain": [
       "(array([15., 17., 10., 11., 11.,  9., 10., 11., 14., 17.]),\n",
       " array([  1. ,  10.9,  20.8,  30.7,  40.6,  50.5,  60.4,  70.3,  80.2,\n",
       "         90.1, 100. ]),\n",
       " <BarContainer object of 10 artists>)"
      ]
     },
     "execution_count": 23,
     "metadata": {},
     "output_type": "execute_result"
    },
    {
     "data": {
      "image/png": "[encoded data removed]",
      "text/plain": [
       "<Figure size 432x288 with 1 Axes>"
      ]
     },
     "metadata": {
      "needs_background": "light"
     },
     "output_type": "display_data"
    }
   ],
   "source": [
    "plt.hist(scores, bins = 10, orientation='horizontal')\n"
   ]
  },
  {
   "cell_type": "markdown",
   "metadata": {},
   "source": [
    "#### 1.2.7. 막대 스타일 설정\n",
    "- rwidth = 막대폭(0~1)\n",
    "- color = 막대색\n",
    "- alpha = 투명도\n",
    "- edgecolor(ec) = 선색\n",
    "- linewidth(lw) = 선두께\n",
    "- linestyle(ls) = 선스타일\n",
    "- hatch = 패턴\n"
   ]
  },
  {
   "cell_type": "code",
   "execution_count": 34,
   "metadata": {},
   "outputs": [
    {
     "data": {
      "text/plain": [
       "(array([15., 17., 10., 11., 11.,  9., 10., 11., 14., 17.]),\n",
       " array([  1. ,  10.9,  20.8,  30.7,  40.6,  50.5,  60.4,  70.3,  80.2,\n",
       "         90.1, 100. ]),\n",
       " <BarContainer object of 10 artists>)"
      ]
     },
     "execution_count": 34,
     "metadata": {},
     "output_type": "execute_result"
    },
    {
     "data": {
      "image/png": "[encoded data removed]",
      "text/plain": [
       "<Figure size 432x288 with 1 Axes>"
      ]
     },
     "metadata": {
      "needs_background": "light"
     },
     "output_type": "display_data"
    }
   ],
   "source": [
    "plt.hist(scores, bins = 10, orientation='horizontal',\n",
    "    rwidth = 0.8, color = 'r', alpha=0.8, ec = 'k', lw = 2,\n",
    "    ls = ':', hatch = '*')\n"
   ]
  }
 ],
 "metadata": {
  "kernelspec": {
   "display_name": "Python 3.6.8 64-bit",
   "language": "python",
   "name": "python3"
  },
  "language_info": {
   "codemirror_mode": {
    "name": "ipython",
    "version": 3
   },
   "file_extension": ".py",
   "mimetype": "text/x-python",
   "name": "python",
   "nbconvert_exporter": "python",
   "pygments_lexer": "ipython3",
   "version": "3.6.8"
  },
  "orig_nbformat": 4,
  "vscode": {
   "interpreter": {
    "hash": "e4155384af5840d15d68e8597407fad2e99d1893f7ce8c3788bc9723b5f2c767"
   }
  }
 },
 "nbformat": 4,
 "nbformat_minor": 2
}
