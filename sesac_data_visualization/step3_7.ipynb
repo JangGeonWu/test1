{
 "cells": [
  {
   "cell_type": "markdown",
   "metadata": {},
   "source": [
    "# 그래프 스타일링\n",
    "- 축의 범위와 눈금 지정"
   ]
  },
  {
   "cell_type": "markdown",
   "metadata": {},
   "source": [
    "## 1.1 라이브러리 임포트 및 기본 설정"
   ]
  },
  {
   "cell_type": "code",
   "execution_count": 1,
   "metadata": {},
   "outputs": [],
   "source": [
    "import matplotlib.pyplot as plt\n",
    "# 폰트 확인하기\n",
    "import matplotlib.font_manager as fm\n",
    "[f.name for f in fm.fontManager.ttflist if 'Malgun' in f.name]\n",
    "# '맑은 고딕'이 설치되어 있는지 검색\n",
    "# 한글폰트 지정\n",
    "plt.rcParams['font.family'] = 'Malgun Gothic'\n",
    "\n",
    "# 한글폰트 사용시 '-'기호가 깨지는 문제 해결\n",
    "plt.rcParams['axes.unicode_minus'] = False # 원래 True로 되어있어 -기호가 깨짐"
   ]
  },
  {
   "cell_type": "markdown",
   "metadata": {},
   "source": [
    "## 1.2 샘플 데이터\n",
    "___\n",
    "- 월별 몸무게 변화(1월: 80, 2월: 78, 3월: 75, 4월: 73, 5월: 70) "
   ]
  },
  {
   "cell_type": "code",
   "execution_count": 2,
   "metadata": {},
   "outputs": [
    {
     "data": {
      "text/html": [
       "<div>\n",
       "<style scoped>\n",
       "    .dataframe tbody tr th:only-of-type {\n",
       "        vertical-align: middle;\n",
       "    }\n",
       "\n",
       "    .dataframe tbody tr th {\n",
       "        vertical-align: top;\n",
       "    }\n",
       "\n",
       "    .dataframe thead th {\n",
       "        text-align: right;\n",
       "    }\n",
       "</style>\n",
       "<table border=\"1\" class=\"dataframe\">\n",
       "  <thead>\n",
       "    <tr style=\"text-align: right;\">\n",
       "      <th></th>\n",
       "      <th>월</th>\n",
       "      <th>몸무게</th>\n",
       "    </tr>\n",
       "  </thead>\n",
       "  <tbody>\n",
       "    <tr>\n",
       "      <th>0</th>\n",
       "      <td>1</td>\n",
       "      <td>80</td>\n",
       "    </tr>\n",
       "    <tr>\n",
       "      <th>1</th>\n",
       "      <td>2</td>\n",
       "      <td>78</td>\n",
       "    </tr>\n",
       "    <tr>\n",
       "      <th>2</th>\n",
       "      <td>3</td>\n",
       "      <td>75</td>\n",
       "    </tr>\n",
       "    <tr>\n",
       "      <th>3</th>\n",
       "      <td>4</td>\n",
       "      <td>73</td>\n",
       "    </tr>\n",
       "    <tr>\n",
       "      <th>4</th>\n",
       "      <td>5</td>\n",
       "      <td>70</td>\n",
       "    </tr>\n",
       "  </tbody>\n",
       "</table>\n",
       "</div>"
      ],
      "text/plain": [
       "   월  몸무게\n",
       "0  1   80\n",
       "1  2   78\n",
       "2  3   75\n",
       "3  4   73\n",
       "4  5   70"
      ]
     },
     "execution_count": 2,
     "metadata": {},
     "output_type": "execute_result"
    }
   ],
   "source": [
    "# 데이터 프레임 만들기\n",
    "import pandas as pd\n",
    "df = pd.DataFrame({'월':[1,2,3,4,5], '몸무게':[80,78,75,73,70]})\n",
    "df"
   ]
  },
  {
   "cell_type": "markdown",
   "metadata": {},
   "source": [
    "## 1.3 그래프 그리기"
   ]
  },
  {
   "cell_type": "code",
   "execution_count": 5,
   "metadata": {},
   "outputs": [
    {
     "data": {
      "image/png": "[encoded data removed]",
      "text/plain": [
       "<Figure size 432x288 with 1 Axes>"
      ]
     },
     "metadata": {
      "needs_background": "light"
     },
     "output_type": "display_data"
    }
   ],
   "source": [
    "# 그래프, 타이틀\n",
    "plt.plot(df['월'], df['몸무게'], 'ro-', markerfacecolor='b', mec='b', lw=3, ms=7)\n",
    "plt.title('월별 몸무게 변화', loc='left', pad = 10, color = 'k', fontsize=15, fontweight='bold', fontfamily='HYGothic-Extra')\n",
    "\n",
    "# 레이블\n",
    "plt.xlabel('월', loc='right')\n",
    "plt.ylabel('몸무게(kg)', loc='top')\n",
    "# 그리드\n",
    "plt.grid(True, color='k', alpha=0.5) # alpha= 투명도\n",
    "plt.show()"
   ]
  },
  {
   "cell_type": "markdown",
   "metadata": {},
   "source": [
    "# 2. 축의 범위 지정하기 \n",
    "___\n",
    "- plt.xlim(min, max)\n",
    "- plt.ylim(min, max)"
   ]
  },
  {
   "cell_type": "code",
   "execution_count": 6,
   "metadata": {},
   "outputs": [
    {
     "data": {
      "image/png": "[encoded data removed]",
      "text/plain": [
       "<Figure size 432x288 with 1 Axes>"
      ]
     },
     "metadata": {
      "needs_background": "light"
     },
     "output_type": "display_data"
    }
   ],
   "source": [
    "# 그래프, 타이틀\n",
    "plt.plot(df['월'], df['몸무게'], 'ro-', markerfacecolor='b', mec='b', lw=3, ms=7)\n",
    "plt.title('월별 몸무게 변화', loc='left', pad = 10, color = 'k', fontsize=15, fontweight='bold', fontfamily='HYGothic-Extra')\n",
    "\n",
    "# 레이블\n",
    "plt.xlabel('월', loc='right')\n",
    "plt.ylabel('몸무게(kg)', loc='top')\n",
    "\n",
    "# 축 범위\n",
    "plt.xlim(1, 12)\n",
    "plt.ylim(50, 100)\n",
    "# 그리드\n",
    "plt.grid(True, color='k', alpha=0.5) # alpha= 투명도\n",
    "plt.show()\n"
   ]
  },
  {
   "cell_type": "markdown",
   "metadata": {},
   "source": [
    "# 3. 틱 설정\n",
    "- x축, y축 눈금을 틱이라고 함\n",
    "- 틱의 개수, 레이블, 스타일을 변경할 수 있다\n",
    "___\n",
    "## 3.1. 틱 지정\n",
    "- plt.xticks(틱리스트)\n",
    "- plt.yticks(틱리스트)"
   ]
  },
  {
   "cell_type": "code",
   "execution_count": 12,
   "metadata": {},
   "outputs": [
    {
     "data": {
      "image/png": "[encoded data removed]",
      "text/plain": [
       "<Figure size 432x288 with 1 Axes>"
      ]
     },
     "metadata": {
      "needs_background": "light"
     },
     "output_type": "display_data"
    }
   ],
   "source": [
    "# 그래프, 타이틀\n",
    "plt.plot(df['월'], df['몸무게'], 'ro-', markerfacecolor='b', mec='b', lw=3, ms=7)\n",
    "plt.title('월별 몸무게 변화', loc='left', pad = 10, color = 'k', fontsize=15, fontweight='bold', fontfamily='HYGothic-Extra')\n",
    "\n",
    "# 레이블\n",
    "plt.xlabel('월', loc='right')\n",
    "plt.ylabel('몸무게(kg)', loc='top')\n",
    "\n",
    "# 축 범위\n",
    "# plt.xlim(1, 12)\n",
    "# plt.ylim(0, 100)\n",
    "\n",
    "# 틱 지정\n",
    "plt.xticks([0,1,2,3,4,5,6,7,8,9,10,11,12,13])\n",
    "# plt.yticks([10,20,30,40,50,60,70,80,90,100])\n",
    "plt.yticks(range(0, 110, 10))\n",
    "\n",
    "# 그리드\n",
    "plt.grid(True, color='k', alpha=0.2) # alpha= 투명도\n",
    "plt.show()"
   ]
  },
  {
   "cell_type": "markdown",
   "metadata": {},
   "source": [
    "## 3.2. 틱 레이블 지정\n",
    "___\n",
    "- plt.xticks(눈금리스트, label=레이블리스트)"
   ]
  },
  {
   "cell_type": "code",
   "execution_count": 14,
   "metadata": {},
   "outputs": [
    {
     "data": {
      "image/png": "[encoded data removed]",
      "text/plain": [
       "<Figure size 432x288 with 1 Axes>"
      ]
     },
     "metadata": {
      "needs_background": "light"
     },
     "output_type": "display_data"
    }
   ],
   "source": [
    "# 그래프, 타이틀\n",
    "plt.plot(df['월'], df['몸무게'], 'ro-', markerfacecolor='b', mec='b', lw=3, ms=7)\n",
    "plt.title('월별 몸무게 변화', loc='left', pad = 10, color = 'k', fontsize=15, fontweight='bold', fontfamily='HYGothic-Extra')\n",
    "\n",
    "# 레이블\n",
    "plt.xlabel('월', loc='right')\n",
    "plt.ylabel('몸무게(kg)', loc='top')\n",
    "\n",
    "# 축 범위\n",
    "# plt.xlim(1, 12)\n",
    "# plt.ylim(0, 100)\n",
    "ytickslabel = ['0kg','10kg','20kg','30kg','40kg','50kg','60kg','70kg','80kg','90kg','100kg']\n",
    "\n",
    "# 틱 지정\n",
    "plt.xticks([0,1,2,3,4,5,6,7,8,9,10,11,12,13])\n",
    "plt.yticks(range(0, 101, 10), labels= ytickslabel)\n",
    "\n",
    "# 그리드\n",
    "plt.grid(True, color='k', alpha=0.5) # alpha= 투명도\n",
    "plt.show()"
   ]
  },
  {
   "cell_type": "markdown",
   "metadata": {},
   "source": [
    "## 3.3. 틱 스타일 지정\n",
    "___\n",
    "- plt.tick_params()\n",
    "- direction: 틱의 위치, in, out, inout\n",
    "- length\n",
    "- width\n",
    "- color\n",
    "- labelcolor\n",
    "- colors(틱과 틱 레이블 색상, color + labelcolor)\n",
    "- pad\n",
    "- labelsize\n",
    "- axis(원하는 축에 적용, 언급 없으면 x,y 모두 적용됨)"
   ]
  },
  {
   "cell_type": "code",
   "execution_count": 24,
   "metadata": {},
   "outputs": [
    {
     "data": {
      "image/png": "[encoded data removed]",
      "text/plain": [
       "<Figure size 432x288 with 1 Axes>"
      ]
     },
     "metadata": {
      "needs_background": "light"
     },
     "output_type": "display_data"
    }
   ],
   "source": [
    "# 그래프, 타이틀\n",
    "plt.plot(df['월'], df['몸무게'], 'ro-', markerfacecolor='b', mec='b', lw=3, ms=7)\n",
    "plt.title('월별 몸무게 변화', loc='left', pad = 10, color = 'k', fontsize=15, fontweight='bold', fontfamily='HYGothic-Extra')\n",
    "\n",
    "# 레이블\n",
    "plt.xlabel('월', loc='right')\n",
    "plt.ylabel('몸무게(kg)', loc='top')\n",
    "\n",
    "# 축 범위\n",
    "# plt.xlim(1, 12)\n",
    "# plt.ylim(0, 100)\n",
    "ytickslabel = ['0kg','10kg','20kg','30kg','40kg','50kg','60kg','70kg','80kg','90kg','100kg']\n",
    "\n",
    "# 틱 지정\n",
    "plt.xticks([0,1,2,3,4,5,6,7,8,9,10,11,12,13])\n",
    "plt.yticks(range(0, 101, 10), labels= ytickslabel)\n",
    "plt.tick_params(direction='inout', length=10, width=3, color='r', labelcolor='g', labelsize=15, axis='x')\n",
    "\n",
    "# 그리드\n",
    "plt.grid(True, color='k', alpha=0.5) # alpha= 투명도\n",
    "plt.show()"
   ]
  },
  {
   "cell_type": "markdown",
   "metadata": {},
   "source": []
  }
 ],
 "metadata": {
  "kernelspec": {
   "display_name": "Python 3.10.5 64-bit",
   "language": "python",
   "name": "python3"
  },
  "language_info": {
   "codemirror_mode": {
    "name": "ipython",
    "version": 3
   },
   "file_extension": ".py",
   "mimetype": "text/x-python",
   "name": "python",
   "nbconvert_exporter": "python",
   "pygments_lexer": "ipython3",
   "version": "3.10.5"
  },
  "orig_nbformat": 4,
  "vscode": {
   "interpreter": {
    "hash": "369f2c481f4da34e4445cda3fffd2e751bd1c4d706f27375911949ba6bb62e1c"
   }
  }
 },
 "nbformat": 4,
 "nbformat_minor": 2
}
