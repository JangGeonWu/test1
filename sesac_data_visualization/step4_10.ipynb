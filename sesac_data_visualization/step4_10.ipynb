{
 "cells": [
  {
   "cell_type": "markdown",
   "metadata": {},
   "source": [
    "# 서브플롯 그리기\n",
    "- 위치, 크기 지정하여 그리기\n",
    "___"
   ]
  },
  {
   "cell_type": "code",
   "execution_count": 19,
   "metadata": {},
   "outputs": [],
   "source": [
    "import matplotlib.pyplot as plt\n",
    "# 폰트 확인하기\n",
    "import matplotlib.font_manager as fm\n",
    "[f.name for f in fm.fontManager.ttflist if 'Malgun' in f.name]\n",
    "# '맑은 고딕'이 설치되어 있는지 검색\n",
    "# 한글폰트 지정\n",
    "plt.rcParams['font.family'] = 'Malgun Gothic'\n",
    "\n",
    "# 한글폰트 사용시 '-'기호가 깨지는 문제 해결\n",
    "plt.rcParams['axes.unicode_minus'] = False # 원래 True로 되어있어 -기호가 깨짐"
   ]
  },
  {
   "cell_type": "markdown",
   "metadata": {},
   "source": [
    "## 2. 위치, 크기 지정하여 그래프 그리기\n",
    "___\n",
    "\n",
    "### 2.1. figures, axes\n",
    "- figure : 그림이 그려지는 캔버스\n",
    "- axes : 하나의 그래프\n",
    "___\n",
    "### 2.2. 위치, 크기 지정하여 그래프 그리기\n",
    "1) figure 객체를 생성한다.\n",
    "> fig = plt.figure(figsize=(가로길이, 세로길이))\n",
    "\n",
    "2) figure 객체의 add_axes 메소드로 위치와 크기를 지정해 axes 객체를 생성\n",
    "> ax1 = fig.add_axes([left, bottom, width, height])\n",
    "\n",
    "**left, bottom** = 상대적인 시작 위치(figsize의 크기를 1이라 했을 때 상대적 위치), 왼쪽 하단이 (0, 0) 지점이다.   \n",
    "**width, height** = 상대적인 크기(figsize의 크기를 1이라고 했을 때 상대적인 크기)\n",
    "\n",
    "3) axes에 그래프를 그린다\n",
    "ax1.plot(x, y)\n",
    "\n",
    "4) axes에 제목 추가\n",
    "ax1.set_title(제목)\n",
    "___\n",
    "2.2.1. 위치와 크기를 자유롭게 지정하여 axes 객체 만들기\n",
    "- add_axes를 사용하면, 서브플롯의 크기와 위치를 자유롭게 지정할 수 있다.\n",
    "- 그래프를 겹쳐그리거나, 크기가 각각 다른 그래프를 그릴 수 있다.\n",
    "___\n",
    "2.2.2. 앤스콤 4분할 그래프 그리기"
   ]
  },
  {
   "cell_type": "code",
   "execution_count": 20,
   "metadata": {},
   "outputs": [],
   "source": [
    "import seaborn as sns\n",
    "anscombe = sns.load_dataset('anscombe')\n",
    "df1 = anscombe[anscombe['dataset'] == 'I']\n",
    "df2 = anscombe[anscombe['dataset'] == 'II']\n",
    "df3 = anscombe[anscombe['dataset'] == 'III']\n",
    "df4 = anscombe[anscombe['dataset'] == 'IV']"
   ]
  },
  {
   "cell_type": "code",
   "execution_count": 21,
   "metadata": {},
   "outputs": [
    {
     "data": {
      "image/png": "[encoded data removed]",
      "text/plain": [
       "<Figure size 576x432 with 4 Axes>"
      ]
     },
     "metadata": {
      "needs_background": "light"
     },
     "output_type": "display_data"
    }
   ],
   "source": [
    "# 1) figure 객체를 생성\n",
    "fig = plt.figure(figsize=(8, 6))\n",
    "# 2) figure 객체의 add_axes 메소드로 위치와 크기를 지정하여 axes 객체를 생성한다.\n",
    "# fig.add_axes([0, 0, 1, 1]) # 가득차게 그리기\n",
    "\n",
    "ax1 = fig.add_axes([0, 0.7, 0.2, 0.2])\n",
    "\n",
    "ax2 = fig.add_axes([0.3, 0.7, 0.6, 0.2])\n",
    "\n",
    "ax3 = fig.add_axes([0,0,0.2,0.6])\n",
    "\n",
    "ax4 = fig.add_axes([0.3,0,0.6,0.6])\n",
    "\n",
    "\n",
    "# 3) axes에 그래프를 그린다\n",
    "ax1.plot(df1['x'], df1['y'], 'o')\n",
    "ax2.plot(df2['x'], df2['y'], 'o')\n",
    "ax3.plot(df3['x'], df3['y'], 'o')\n",
    "ax4.plot(df4['x'], df4['y'], 'o')\n",
    "\n",
    "\n",
    "# 4) axes에 제목 추가\n",
    "ax1.set_title('ax1')\n",
    "ax2.set_title('ax2')\n",
    "ax3.set_title('ax3')\n",
    "ax4.set_title('ax4')\n",
    "\n",
    "ax1.grid(True) # axes마다 grid 지정 가능하다."
   ]
  },
  {
   "cell_type": "code",
   "execution_count": null,
   "metadata": {},
   "outputs": [],
   "source": []
  }
 ],
 "metadata": {
  "kernelspec": {
   "display_name": "Python 3.10.5 64-bit",
   "language": "python",
   "name": "python3"
  },
  "language_info": {
   "codemirror_mode": {
    "name": "ipython",
    "version": 3
   },
   "file_extension": ".py",
   "mimetype": "text/x-python",
   "name": "python",
   "nbconvert_exporter": "python",
   "pygments_lexer": "ipython3",
   "version": "3.10.5"
  },
  "orig_nbformat": 4,
  "vscode": {
   "interpreter": {
    "hash": "369f2c481f4da34e4445cda3fffd2e751bd1c4d706f27375911949ba6bb62e1c"
   }
  }
 },
 "nbformat": 4,
 "nbformat_minor": 2
}
